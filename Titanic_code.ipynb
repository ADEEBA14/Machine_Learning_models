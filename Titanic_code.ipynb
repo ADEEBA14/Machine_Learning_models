{
 "cells": [
  {
   "cell_type": "code",
   "execution_count": null,
   "metadata": {},
   "outputs": [],
   "source": [
    "import pandas as pd\n",
    "import numpy as np\n",
    "import random\n",
    "import matplotlib.pyplot as plt\n",
    "\n",
    "df=pd.read_csv('train.csv')\n",
    "pd.set_option('max_columns',None)\n",
    "\n",
    "test_data=pd.read_csv('test.csv')\n",
    "df.Sex.replace(['male','female'],[0,1],inplace=True)\n",
    "test_data.Sex.replace(['male','female'],[0,1],inplace=True)\n",
    "df.drop(['Name','Ticket','SibSp','Parch','Cabin','Embarked'],axis=1,inplace=True)\n",
    "df.Age.fillna(method='pad',inplace=True)\n",
    "df.Age=df.Age.astype(int)\n",
    "test_data.drop(['Name','Ticket','SibSp','Parch','Cabin','Embarked'],axis=1,inplace=True)\n",
    "test_data.Age.fillna(method='pad',inplace=True)\n",
    "test_data.Age=df.Age.astype(int)\n",
    "df.Fare.loc[df.Pclass==1]=df.Fare[df.Pclass==1].mean()\n",
    "df.Fare.loc[df.Pclass==2]=df.Fare[df.Pclass==2].mean()\n",
    "df.Fare.loc[df.Pclass==3]=df.Fare[df.Pclass==3].mean()\n",
    "\n",
    "\n",
    "test_data.Fare.loc[df.Pclass==1]=test_data.Fare[df.Pclass==1].mean()\n",
    "test_data.Fare.loc[df.Pclass==2]=test_data.Fare[df.Pclass==2].mean()\n",
    "test_data.Fare.loc[df.Pclass==3]=test_data.Fare[df.Pclass==3].mean()\n",
    "\n",
    "\n",
    "test_input=test_data[['Fare','Sex','Pclass','Age']]\n",
    "\n",
    "print(df)\n",
    "print(test_data)\n",
    "#Apply regression\n",
    "x=df[['Fare','Sex','Pclass','Age']]\n",
    "y=df['Survived']\n",
    "from sklearn.linear_model import LogisticRegression\n",
    "model=LogisticRegression()\n",
    "model.fit(x,y)\n",
    "predict_value=model.predict(test_input)\n",
    "output=pd.DataFrame(columns=['PassengerId','Survived'])\n",
    "output['PassengerId']=test_data.PassengerId\n",
    "output['Survived']=predict_value\n",
    "output.to_csv('first_file.csv',index=False)\n"
   ]
  }
 ],
 "metadata": {
  "kernelspec": {
   "display_name": "Python 3",
   "language": "python",
   "name": "python3"
  },
  "language_info": {
   "codemirror_mode": {
    "name": "ipython",
    "version": 3
   },
   "file_extension": ".py",
   "mimetype": "text/x-python",
   "name": "python",
   "nbconvert_exporter": "python",
   "pygments_lexer": "ipython3",
   "version": "3.6.5"
  }
 },
 "nbformat": 4,
 "nbformat_minor": 2
}
