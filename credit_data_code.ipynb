{
 "cells": [
  {
   "cell_type": "markdown",
   "metadata": {},
   "source": [
    "# Note: Please avoid if any \"WARNING\" would come."
   ]
  },
  {
   "cell_type": "code",
   "execution_count": 1,
   "metadata": {},
   "outputs": [],
   "source": [
    "\n",
    "import pandas as pd\n",
    "from sklearn.preprocessing import LabelEncoder\n",
    "pd.set_option('max_columns',None)\n",
    "df_credit_data=pd.read_csv('german_credit_data.txt',delim_whitespace=True)\n",
    "df_credit_data.drop(['sex_and_status'],axis=1,inplace=True)"
   ]
  },
  {
   "cell_type": "markdown",
   "metadata": {},
   "source": [
    "\n",
    "# Assign the credit value in the same range as other \"Amount\" attributes\n"
   ]
  },
  {
   "cell_type": "code",
   "execution_count": 2,
   "metadata": {},
   "outputs": [
    {
     "name": "stderr",
     "output_type": "stream",
     "text": [
      "/srv/conda/lib/python3.6/site-packages/pandas/core/indexing.py:179: SettingWithCopyWarning: \n",
      "A value is trying to be set on a copy of a slice from a DataFrame\n",
      "\n",
      "See the caveats in the documentation: http://pandas.pydata.org/pandas-docs/stable/indexing.html#indexing-view-versus-copy\n",
      "  self._setitem_with_indexer(indexer, value)\n"
     ]
    }
   ],
   "source": [
    "df_credit_data.Credit_amount.loc[(df_credit_data.Credit_amount>=250) & (df_credit_data.Credit_amount<3000)]=1\n",
    "df_credit_data.Credit_amount.loc[(df_credit_data.Credit_amount>=3000) & (df_credit_data.Credit_amount<7000)]=2\n",
    "df_credit_data.Credit_amount.loc[(df_credit_data.Credit_amount>=7000) & (df_credit_data.Credit_amount<13000)]=3\n",
    "df_credit_data.Credit_amount.loc[(df_credit_data.Credit_amount>=13000) & (df_credit_data.Credit_amount<19000)]=4\n"
   ]
  },
  {
   "cell_type": "code",
   "execution_count": 3,
   "metadata": {},
   "outputs": [],
   "source": [
    "def categorical_to_numerical(lb_object,df_credit_data):\n",
    "    for col in df_credit_data.columns:\n",
    "        if df_credit_data[col].dtype==object:\n",
    "            df_credit_data[col]=lb_object.fit_transform(df_credit_data[col])\n",
    "    return df_credit_data"
   ]
  },
  {
   "cell_type": "code",
   "execution_count": 4,
   "metadata": {},
   "outputs": [],
   "source": [
    "lb_object=LabelEncoder()\n",
    "df_credit_data=categorical_to_numerical(lb_object,df_credit_data) #Funtion to change categorical value into numerical\n",
    "X=df_credit_data.drop(['result'],axis=1)\n",
    "y=df_credit_data.result\n"
   ]
  },
  {
   "cell_type": "code",
   "execution_count": 5,
   "metadata": {},
   "outputs": [
    {
     "name": "stdout",
     "output_type": "stream",
     "text": [
      "Accuracy Score:  0.755\n"
     ]
    }
   ],
   "source": [
    "from sklearn.metrics import accuracy_score \n",
    "from sklearn.linear_model import LogisticRegression\n",
    "from sklearn.model_selection import train_test_split,KFold,cross_val_score\n",
    "kfold=KFold(n_splits=10,shuffle=True)\n",
    "classifier_object=LogisticRegression(fit_intercept=True)\n",
    "score=cross_val_score(classifier_object,X,y,cv=kfold,n_jobs=1,scoring='accuracy')\n",
    "print(\"Accuracy Score: \",score.mean())\n"
   ]
  },
  {
   "cell_type": "code",
   "execution_count": null,
   "metadata": {},
   "outputs": [],
   "source": []
  }
 ],
 "metadata": {
  "kernelspec": {
   "display_name": "Python 3",
   "language": "python",
   "name": "python3"
  },
  "language_info": {
   "codemirror_mode": {
    "name": "ipython",
    "version": 3
   },
   "file_extension": ".py",
   "mimetype": "text/x-python",
   "name": "python",
   "nbconvert_exporter": "python",
   "pygments_lexer": "ipython3",
   "version": "3.6.6"
  }
 },
 "nbformat": 4,
 "nbformat_minor": 2
}
