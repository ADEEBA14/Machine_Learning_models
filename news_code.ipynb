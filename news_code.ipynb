{
 "cells": [
  {
   "cell_type": "markdown",
   "metadata": {
    "_cell_guid": "b1076dfc-b9ad-4769-8c92-a6c4dae69d19",
    "_uuid": "8f2839f25d086af736a60e9eeb907d3b93b6e0e5"
   },
   "source": [
    "This is news category classification dataset.The file is in the form of json,first I extract data to make dataframe for further \n",
    "process.I did text analysis on this dataset so,I use countvectorizer for preprocess.Further,I modelling the dataset with \n",
    "SVC and Multinomial Naive bayes.\n",
    "\n",
    " "
   ]
  },
  {
   "cell_type": "markdown",
   "metadata": {},
   "source": [
    "# # DATASET = https://www.kaggle.com/rmisra/news-category-dataset"
   ]
  },
  {
   "cell_type": "markdown",
   "metadata": {},
   "source": [
    "# Import Libraries"
   ]
  },
  {
   "cell_type": "code",
   "execution_count": null,
   "metadata": {
    "_cell_guid": "79c7e3d0-c299-4dcb-8224-4455121ee9b0",
    "_uuid": "d629ff2d2480ee46fbb7e2d37f6b5fab8052498a"
   },
   "outputs": [],
   "source": [
    "import pandas as pd\n",
    "import numpy as np\n",
    "import json"
   ]
  },
  {
   "cell_type": "markdown",
   "metadata": {
    "_uuid": "8289bf4ee903f094a5d727b6ebe155a522cdf80d"
   },
   "source": [
    "# Below code convert json file data into DataFrame format\n"
   ]
  },
  {
   "cell_type": "code",
   "execution_count": null,
   "metadata": {
    "_uuid": "5a15a51b72ac7914436321a71a49f7d068a4c9af"
   },
   "outputs": [],
   "source": [
    "data=[]\n",
    "for line in open('News_Category_Dataset.json','r'):\n",
    "    data.append(json.loads(line))\n",
    "df_news=pd.DataFrame(data)"
   ]
  },
  {
   "cell_type": "code",
   "execution_count": null,
   "metadata": {
    "_uuid": "b760c80f57c29ec49ea2fc40e957c4a70337b44a"
   },
   "outputs": [],
   "source": [
    "print(df_news.info())\n",
    "#Every row are not null with same type of datatype(object)"
   ]
  },
  {
   "cell_type": "markdown",
   "metadata": {
    "_uuid": "c5aa8926183d7ab490335481ecdd5e43547239b8"
   },
   "source": [
    "# Import ibraries for visualization"
   ]
  },
  {
   "cell_type": "code",
   "execution_count": null,
   "metadata": {
    "_uuid": "7808ea8477345d00afd6d572b70e6db45678363b"
   },
   "outputs": [],
   "source": [
    "import matplotlib.pyplot as plt\n",
    "import seaborn as sns"
   ]
  },
  {
   "cell_type": "markdown",
   "metadata": {
    "_uuid": "de694f758c588810b46d06efd3d65b04c6ab5384"
   },
   "source": [
    "# Freqency of each category"
   ]
  },
  {
   "cell_type": "code",
   "execution_count": 10,
   "metadata": {
    "_uuid": "7dd5bf3600b28428c193c343030514501e14a5ef"
   },
   "outputs": [
    {
     "name": "stdout",
     "output_type": "stream",
     "text": [
      "POLITICS          32739\n",
      "ENTERTAINMENT     14257\n",
      "HEALTHY LIVING     6694\n",
      "QUEER VOICES       4995\n",
      "BUSINESS           4254\n",
      "SPORTS             4167\n",
      "COMEDY             3971\n",
      "PARENTS            3955\n",
      "BLACK VOICES       3858\n",
      "THE WORLDPOST      3664\n",
      "WOMEN              3490\n",
      "CRIME              2893\n",
      "MEDIA              2815\n",
      "WEIRD NEWS         2670\n",
      "GREEN              2622\n",
      "IMPACT             2602\n",
      "WORLDPOST          2579\n",
      "RELIGION           2556\n",
      "STYLE              2254\n",
      "WORLD NEWS         2177\n",
      "TRAVEL             2145\n",
      "TASTE              2096\n",
      "ARTS               1509\n",
      "FIFTY              1401\n",
      "GOOD NEWS          1398\n",
      "SCIENCE            1381\n",
      "ARTS & CULTURE     1339\n",
      "TECH               1231\n",
      "COLLEGE            1144\n",
      "LATINO VOICES      1129\n",
      "EDUCATION          1004\n",
      "Name: category, dtype: int64\n"
     ]
    }
   ],
   "source": [
    "print(df_news.category.value_counts())"
   ]
  },
  {
   "cell_type": "markdown",
   "metadata": {
    "_uuid": "29d17e6b7ed3b80c789e57a3b0e4cb3fd91575c2"
   },
   "source": [
    "# change the categorical value of category column into numerical"
   ]
  },
  {
   "cell_type": "code",
   "execution_count": 11,
   "metadata": {
    "_uuid": "6a7be92c090f493edf427f3f5ba896814cef2d29"
   },
   "outputs": [],
   "source": [
    "from sklearn.preprocessing import LabelEncoder\n",
    "lb_object=LabelEncoder()\n",
    "df_news.category=lb_object.fit_transform(df_news.category)"
   ]
  },
  {
   "cell_type": "code",
   "execution_count": 12,
   "metadata": {
    "_uuid": "d0e02e7bd3090f41907c252fa996a1c41ce692c5"
   },
   "outputs": [
    {
     "data": {
      "text/plain": [
       "124964"
      ]
     },
     "execution_count": 12,
     "metadata": {},
     "output_type": "execute_result"
    }
   ],
   "source": [
    "#Analyse unique number numeber of links\n",
    "len(df_news.link.unique())"
   ]
  },
  {
   "cell_type": "code",
   "execution_count": 13,
   "metadata": {
    "_uuid": "4849e72818a9e0b6d044961caf775cd318a8368f"
   },
   "outputs": [],
   "source": [
    "# Add all the text data in a new column\n",
    "# link data would not contribute much since it is contain alomost all values as unique\n",
    "df_news['text']=df_news['short_description']+\" \"+df_news['headline']+\" \"+df_news['authors']\n",
    "df_news.drop(['short_description','headline','link','authors','date'],axis=1,inplace=True)"
   ]
  },
  {
   "cell_type": "markdown",
   "metadata": {
    "_uuid": "4ebce47d8a91084386277b9d79fcc9759957befb"
   },
   "source": [
    "# Set Libraries for model"
   ]
  },
  {
   "cell_type": "code",
   "execution_count": 15,
   "metadata": {
    "_uuid": "a171b2ad097c5f6b303641308be334915476fd5e"
   },
   "outputs": [],
   "source": [
    "\n",
    "from sklearn.model_selection import  train_test_split\n",
    "from sklearn.naive_bayes import MultinomialNB\n",
    "from sklearn.metrics import accuracy_score,confusion_matrix\n",
    "from sklearn.svm import SVC\n",
    "from sklearn.svm import LinearSVC\n",
    "from sklearn.feature_extraction.text import CountVectorizer"
   ]
  },
  {
   "cell_type": "code",
   "execution_count": 16,
   "metadata": {
    "_uuid": "6bc28faed84782f15aadd46246132e16d7a02852"
   },
   "outputs": [
    {
     "data": {
      "text/plain": [
       "CountVectorizer(analyzer='word', binary=False, decode_error='strict',\n",
       "        dtype=<class 'numpy.int64'>, encoding='utf-8', input='content',\n",
       "        lowercase=True, max_df=1.0, max_features=None, min_df=1,\n",
       "        ngram_range=(1, 1), preprocessor=None, stop_words='english',\n",
       "        strip_accents=None, token_pattern='(?u)\\\\b\\\\w\\\\w+\\\\b',\n",
       "        tokenizer=None, vocabulary=None)"
      ]
     },
     "execution_count": 16,
     "metadata": {},
     "output_type": "execute_result"
    }
   ],
   "source": [
    "cv=CountVectorizer(stop_words='english') # Create instance of Count Vectorizer for tokenization\n",
    "cv.fit(df_news.text)  #Fit the instance on text data\n"
   ]
  },
  {
   "cell_type": "code",
   "execution_count": 17,
   "metadata": {
    "_uuid": "696b916bc3c144e96ae03f2f91f198a98b835085"
   },
   "outputs": [
    {
     "data": {
      "text/plain": [
       "CountVectorizer(analyzer='word', binary=False, decode_error='strict',\n",
       "        dtype=<class 'numpy.int64'>, encoding='utf-8', input='content',\n",
       "        lowercase=True, max_df=1.0, max_features=None, min_df=1,\n",
       "        ngram_range=(1, 1), preprocessor=None, stop_words='english',\n",
       "        strip_accents=None, token_pattern='(?u)\\\\b\\\\w\\\\w+\\\\b',\n",
       "        tokenizer=None, vocabulary=None)"
      ]
     },
     "execution_count": 17,
     "metadata": {},
     "output_type": "execute_result"
    }
   ],
   "source": [
    "#Filter all numerical values which are fitted with alphbets\n",
    "\n",
    "input_data_list=cv.get_feature_names() #get all feature values\n",
    "extra=[] #list for store new features\n",
    "for i in input_data_list:\n",
    "    if i.isalpha() and len(i)<=15:\n",
    "        extra.append(i)\n",
    "\n",
    "cv.fit(extra) # Fit countvectorizer on fitler data"
   ]
  },
  {
   "cell_type": "markdown",
   "metadata": {
    "_uuid": "b51d655ebb132ba3fe47fd2c59682aa12a405dd1"
   },
   "source": [
    "# train ,test and predict accuracy "
   ]
  },
  {
   "cell_type": "code",
   "execution_count": 18,
   "metadata": {
    "_uuid": "a05db2d4b29e6b81f754c668826ee1b7d06cf7f9"
   },
   "outputs": [],
   "source": [
    "# Initialize data\n",
    "X=df_news.text\n",
    "y=df_news.category"
   ]
  },
  {
   "cell_type": "code",
   "execution_count": 19,
   "metadata": {
    "_uuid": "d8a2bd12aa29443160a95e6497f977407b8a5c08"
   },
   "outputs": [
    {
     "name": "stdout",
     "output_type": "stream",
     "text": [
      "Accuracy score : 65.72792490065872\n"
     ]
    }
   ],
   "source": [
    "#Using Multinomial naive bayes\n",
    "\n",
    "x_train,x_test,y_train,y_test=train_test_split(X,y,test_size=0.3,shuffle=True,random_state=42)\n",
    "x_train_cv=cv.transform(x_train)\n",
    "x_test_cv=cv.transform(x_test)\n",
    "model=MultinomialNB()\n",
    "model.fit(x_train_cv,y_train)\n",
    "predict_value=model.predict(x_test_cv)\n",
    "print(\"Accuracy score :\",accuracy_score(y_test,predict_value)*100)"
   ]
  },
  {
   "cell_type": "code",
   "execution_count": 20,
   "metadata": {
    "_uuid": "292702d888fcb8fc69708860a51b1ee12cb23811"
   },
   "outputs": [
    {
     "name": "stdout",
     "output_type": "stream",
     "text": [
      "Accuracy score : 68.61882283916046\n"
     ]
    }
   ],
   "source": [
    "# Using Linear SVC model\n",
    "\n",
    "x_train,x_test,y_train,y_test=train_test_split(X,y,test_size=0.3,shuffle=True,random_state=42)\n",
    "x_train_cv=cv.transform(x_train)\n",
    "x_test_cv=cv.transform(x_test)\n",
    "model=LinearSVC()\n",
    "model.fit(x_train_cv,y_train)\n",
    "predict_value=model.predict(x_test_cv)\n",
    "print(\"Accuracy score :\",accuracy_score(y_test,predict_value)*100)"
   ]
  },
  {
   "cell_type": "code",
   "execution_count": null,
   "metadata": {
    "_uuid": "6eef8fb86895f9d474c1259bbcc4059449d406a1"
   },
   "outputs": [],
   "source": []
  }
 ],
 "metadata": {
  "kernelspec": {
   "display_name": "Python 3",
   "language": "python",
   "name": "python3"
  },
  "language_info": {
   "codemirror_mode": {
    "name": "ipython",
    "version": 3
   },
   "file_extension": ".py",
   "mimetype": "text/x-python",
   "name": "python",
   "nbconvert_exporter": "python",
   "pygments_lexer": "ipython3",
   "version": "3.6.5"
  }
 },
 "nbformat": 4,
 "nbformat_minor": 1
}
