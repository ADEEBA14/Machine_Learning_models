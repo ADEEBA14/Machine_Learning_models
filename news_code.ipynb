{
  "cells": [
    {
      "metadata": {
        "_uuid": "8f2839f25d086af736a60e9eeb907d3b93b6e0e5",
        "_cell_guid": "b1076dfc-b9ad-4769-8c92-a6c4dae69d19",
        "trusted": true
      },
      "cell_type": "markdown",
      "source": "# Import Libraries"
    },
    {
      "metadata": {
        "_cell_guid": "79c7e3d0-c299-4dcb-8224-4455121ee9b0",
        "_uuid": "d629ff2d2480ee46fbb7e2d37f6b5fab8052498a",
        "trusted": true
      },
      "cell_type": "code",
      "source": "import pandas as pd\nimport numpy as np\nimport json",
      "execution_count": null,
      "outputs": []
    },
    {
      "metadata": {
        "_uuid": "8289bf4ee903f094a5d727b6ebe155a522cdf80d"
      },
      "cell_type": "markdown",
      "source": "# Below code convert json file data into DataFrame format\n"
    },
    {
      "metadata": {
        "trusted": true,
        "_uuid": "5a15a51b72ac7914436321a71a49f7d068a4c9af"
      },
      "cell_type": "code",
      "source": "data=[]\nfor line in open('News_Category_Dataset.json','r'):\n    data.append(json.loads(line))\ndf_news=pd.DataFrame(data)",
      "execution_count": null,
      "outputs": []
    },
    {
      "metadata": {
        "trusted": true,
        "_uuid": "b760c80f57c29ec49ea2fc40e957c4a70337b44a"
      },
      "cell_type": "code",
      "source": "print(df_news.info())\n#Every row are not null with same type of datatype(object)",
      "execution_count": null,
      "outputs": []
    },
    {
      "metadata": {
        "_uuid": "c5aa8926183d7ab490335481ecdd5e43547239b8"
      },
      "cell_type": "markdown",
      "source": "# Import ibraries for visualization"
    },
    {
      "metadata": {
        "trusted": true,
        "_uuid": "7808ea8477345d00afd6d572b70e6db45678363b"
      },
      "cell_type": "code",
      "source": "import matplotlib.pyplot as plt\nimport seaborn as sns",
      "execution_count": null,
      "outputs": []
    },
    {
      "metadata": {
        "_uuid": "de694f758c588810b46d06efd3d65b04c6ab5384"
      },
      "cell_type": "markdown",
      "source": "# Freqency of each category"
    },
    {
      "metadata": {
        "trusted": true,
        "_uuid": "7dd5bf3600b28428c193c343030514501e14a5ef"
      },
      "cell_type": "code",
      "source": "print(df_news.category.value_counts())",
      "execution_count": 10,
      "outputs": [
        {
          "output_type": "stream",
          "text": "POLITICS          32739\nENTERTAINMENT     14257\nHEALTHY LIVING     6694\nQUEER VOICES       4995\nBUSINESS           4254\nSPORTS             4167\nCOMEDY             3971\nPARENTS            3955\nBLACK VOICES       3858\nTHE WORLDPOST      3664\nWOMEN              3490\nCRIME              2893\nMEDIA              2815\nWEIRD NEWS         2670\nGREEN              2622\nIMPACT             2602\nWORLDPOST          2579\nRELIGION           2556\nSTYLE              2254\nWORLD NEWS         2177\nTRAVEL             2145\nTASTE              2096\nARTS               1509\nFIFTY              1401\nGOOD NEWS          1398\nSCIENCE            1381\nARTS & CULTURE     1339\nTECH               1231\nCOLLEGE            1144\nLATINO VOICES      1129\nEDUCATION          1004\nName: category, dtype: int64\n",
          "name": "stdout"
        }
      ]
    },
    {
      "metadata": {
        "_uuid": "29d17e6b7ed3b80c789e57a3b0e4cb3fd91575c2"
      },
      "cell_type": "markdown",
      "source": "# change the categorical value of category column into numerical"
    },
    {
      "metadata": {
        "trusted": true,
        "_uuid": "6a7be92c090f493edf427f3f5ba896814cef2d29"
      },
      "cell_type": "code",
      "source": "from sklearn.preprocessing import LabelEncoder\nlb_object=LabelEncoder()\ndf_news.category=lb_object.fit_transform(df_news.category)",
      "execution_count": 11,
      "outputs": []
    },
    {
      "metadata": {
        "trusted": true,
        "_uuid": "d0e02e7bd3090f41907c252fa996a1c41ce692c5"
      },
      "cell_type": "code",
      "source": "#Analyse unique number numeber of links\nlen(df_news.link.unique())",
      "execution_count": 12,
      "outputs": [
        {
          "output_type": "execute_result",
          "execution_count": 12,
          "data": {
            "text/plain": "124964"
          },
          "metadata": {}
        }
      ]
    },
    {
      "metadata": {
        "trusted": true,
        "_uuid": "4849e72818a9e0b6d044961caf775cd318a8368f"
      },
      "cell_type": "code",
      "source": "# Add all the text data in a new column\n# link data would not contribute much since it is contain alomost all values as unique\ndf_news['text']=df_news['short_description']+\" \"+df_news['headline']+\" \"+df_news['authors']\ndf_news.drop(['short_description','headline','link','authors','date'],axis=1,inplace=True)",
      "execution_count": 13,
      "outputs": []
    },
    {
      "metadata": {
        "_uuid": "4ebce47d8a91084386277b9d79fcc9759957befb"
      },
      "cell_type": "markdown",
      "source": "# Set Libraries for model"
    },
    {
      "metadata": {
        "trusted": true,
        "_uuid": "a171b2ad097c5f6b303641308be334915476fd5e"
      },
      "cell_type": "code",
      "source": "\nfrom sklearn.model_selection import  train_test_split\nfrom sklearn.naive_bayes import MultinomialNB\nfrom sklearn.metrics import accuracy_score,confusion_matrix\nfrom sklearn.svm import SVC\nfrom sklearn.svm import LinearSVC\nfrom sklearn.feature_extraction.text import CountVectorizer",
      "execution_count": 15,
      "outputs": []
    },
    {
      "metadata": {
        "trusted": true,
        "_uuid": "6bc28faed84782f15aadd46246132e16d7a02852"
      },
      "cell_type": "code",
      "source": "cv=CountVectorizer(stop_words='english') # Create instance of Count Vectorizer for tokenization\ncv.fit(df_news.text)  #Fit the instance on text data\n",
      "execution_count": 16,
      "outputs": [
        {
          "output_type": "execute_result",
          "execution_count": 16,
          "data": {
            "text/plain": "CountVectorizer(analyzer='word', binary=False, decode_error='strict',\n        dtype=<class 'numpy.int64'>, encoding='utf-8', input='content',\n        lowercase=True, max_df=1.0, max_features=None, min_df=1,\n        ngram_range=(1, 1), preprocessor=None, stop_words='english',\n        strip_accents=None, token_pattern='(?u)\\\\b\\\\w\\\\w+\\\\b',\n        tokenizer=None, vocabulary=None)"
          },
          "metadata": {}
        }
      ]
    },
    {
      "metadata": {
        "trusted": true,
        "_uuid": "696b916bc3c144e96ae03f2f91f198a98b835085"
      },
      "cell_type": "code",
      "source": "#Filter all numerical values which are fitted with alphbets\n\ninput_data_list=cv.get_feature_names() #get all feature values\nextra=[] #list for store new features\nfor i in input_data_list:\n    if i.isalpha() and len(i)<=15:\n        extra.append(i)\n\ncv.fit(extra) # Fit countvectorizer on fitler data",
      "execution_count": 17,
      "outputs": [
        {
          "output_type": "execute_result",
          "execution_count": 17,
          "data": {
            "text/plain": "CountVectorizer(analyzer='word', binary=False, decode_error='strict',\n        dtype=<class 'numpy.int64'>, encoding='utf-8', input='content',\n        lowercase=True, max_df=1.0, max_features=None, min_df=1,\n        ngram_range=(1, 1), preprocessor=None, stop_words='english',\n        strip_accents=None, token_pattern='(?u)\\\\b\\\\w\\\\w+\\\\b',\n        tokenizer=None, vocabulary=None)"
          },
          "metadata": {}
        }
      ]
    },
    {
      "metadata": {
        "_uuid": "b51d655ebb132ba3fe47fd2c59682aa12a405dd1"
      },
      "cell_type": "markdown",
      "source": "# train ,test and predict accuracy "
    },
    {
      "metadata": {
        "trusted": true,
        "_uuid": "a05db2d4b29e6b81f754c668826ee1b7d06cf7f9"
      },
      "cell_type": "code",
      "source": "# Initialize data\nX=df_news.text\ny=df_news.category",
      "execution_count": 18,
      "outputs": []
    },
    {
      "metadata": {
        "trusted": true,
        "_uuid": "d8a2bd12aa29443160a95e6497f977407b8a5c08"
      },
      "cell_type": "code",
      "source": "#Using Multinomial naive bayes\n\nx_train,x_test,y_train,y_test=train_test_split(X,y,test_size=0.3,shuffle=True,random_state=42)\nx_train_cv=cv.transform(x_train)\nx_test_cv=cv.transform(x_test)\nmodel=MultinomialNB()\nmodel.fit(x_train_cv,y_train)\npredict_value=model.predict(x_test_cv)\nprint(\"Accuracy score :\",accuracy_score(y_test,predict_value)*100)",
      "execution_count": 19,
      "outputs": [
        {
          "output_type": "stream",
          "text": "Accuracy score : 65.72792490065872\n",
          "name": "stdout"
        }
      ]
    },
    {
      "metadata": {
        "trusted": true,
        "_uuid": "292702d888fcb8fc69708860a51b1ee12cb23811"
      },
      "cell_type": "code",
      "source": "# Using Linear SVC model\n\nx_train,x_test,y_train,y_test=train_test_split(X,y,test_size=0.3,shuffle=True,random_state=42)\nx_train_cv=cv.transform(x_train)\nx_test_cv=cv.transform(x_test)\nmodel=LinearSVC()\nmodel.fit(x_train_cv,y_train)\npredict_value=model.predict(x_test_cv)\nprint(\"Accuracy score :\",accuracy_score(y_test,predict_value)*100)",
      "execution_count": 20,
      "outputs": [
        {
          "output_type": "stream",
          "text": "Accuracy score : 68.61882283916046\n",
          "name": "stdout"
        }
      ]
    },
    {
      "metadata": {
        "trusted": true,
        "_uuid": "6eef8fb86895f9d474c1259bbcc4059449d406a1"
      },
      "cell_type": "code",
      "source": "",
      "execution_count": null,
      "outputs": []
    }
  ],
  "metadata": {
    "kernelspec": {
      "display_name": "Python 3",
      "language": "python",
      "name": "python3"
    },
    "language_info": {
      "name": "python",
      "version": "3.6.4",
      "mimetype": "text/x-python",
      "codemirror_mode": {
        "name": "ipython",
        "version": 3
      },
      "pygments_lexer": "ipython3",
      "nbconvert_exporter": "python",
      "file_extension": ".py"
    }
  },
  "nbformat": 4,
  "nbformat_minor": 1
}